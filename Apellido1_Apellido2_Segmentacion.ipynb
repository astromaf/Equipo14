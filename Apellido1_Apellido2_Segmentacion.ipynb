{
 "cells": [
  {
   "cell_type": "markdown",
   "metadata": {},
   "source": [
    "![UNIR](https://www.unir.net/wp-content/uploads/2014/10/logo.png)\n",
    "### Máster en Inteligencia Artificial. \n",
    "**Asignatura:** _Percepción Computacional._\n",
    "\n",
    "**Equipo 14:** Sergio Merino,  Laia Garriga, Luisa Sánchez y Miguel Á. de Frutos\n",
    "\n",
    "**Fecha:** _29 Enero 2020_\n",
    "\n",
    "---\n",
    "\n",
    "# ACTIVIDAD 2: Segmentación.\n",
    "\n",
    "**Objetivo:** Aplicar tecnicas de segmentación para aislar/detectar los patos de la imegen.\n",
    "___"
   ]
  },
  {
   "cell_type": "markdown",
   "metadata": {},
   "source": [
    "## 1. Importamos librerías necesarias"
   ]
  },
  {
   "cell_type": "code",
   "execution_count": null,
   "metadata": {},
   "outputs": [],
   "source": [
    "import numpy as np\n",
    "import matplotlib.pyplot as plt\n",
    "from skimage.color import rgb2hsv\n",
    "from skimage import segmentation\n",
    "from skimage import color\n",
    "from skimage import filters\n",
    "from skimage.morphology import watershed, disk\n",
    "from skimage.util import img_as_ubyte\n",
    "from skimage import data\n",
    "from skimage import io\n",
    "from skimage.color import rgb2gray\n",
    "from skimage import img_as_float\n",
    "from scipy import ndimage as ndi"
   ]
  },
  {
   "cell_type": "markdown",
   "metadata": {},
   "source": [
    "## 2. Importación y análisis de la imagen."
   ]
  },
  {
   "cell_type": "markdown",
   "metadata": {},
   "source": [
    "La imagen a procesar se encuentra disponible en el **Dataset FBMS-59**, un conjunto de secuencias fijas o fotogramas extraídas de diferentes videos que se desarrolló para la ***\"Segmnetaciónde de objetos en movimiento\"*** por las universidades de **Berkely** y posteriormnete mejoró la de **Friburgo** y que está disponible para su uso en proyectos académicos y de investigación en: https://lmb.informatik.uni-freiburg.de/resources/datasets/moseg.en.html\n",
    "\n",
    "El DataSet no solo incorpora las imágenes (fotogramas de video), sino que también contiene por cada una de ellas un archivo de **\"refrencia absoluta\" o \"ground-truth\"** que se supone la **mejor segmentación posible** que se puede obtener de la imagen original, con el objetivo de poder analizar el rendimiento de los nuevos algorimos desarrolaldos.\n",
    "\n",
    "Para este caso, hemos extraido la imagen **ducks01_0001.png** y su análogo \"ground-truth\" **ducks01_0001_gt.pgm**"
   ]
  },
  {
   "cell_type": "code",
   "execution_count": null,
   "metadata": {},
   "outputs": [],
   "source": [
    "image=io.imread(\"ducks01_0001.png\") # Importamos Imagen\n",
    "plt.imshow(image)                   # Y Visualizamos\n",
    "print(\"Dimensiones de la imagen: %s\" % str(image.shape))\n",
    "print(\"Tipo de los elementos de la imagen: %s\" % str(image.dtype))"
   ]
  },
  {
   "cell_type": "markdown",
   "metadata": {},
   "source": [
    "Hacemos una **análisis del histograma** de la imagen para observar la **distribución de color** e identificar estrategias de filtrado que facilite la segmentación."
   ]
  },
  {
   "cell_type": "code",
   "execution_count": null,
   "metadata": {},
   "outputs": [],
   "source": [
    "plt.hist(image[:, :, 0].ravel(), bins = 256, color = 'red', alpha = 0.5)\n",
    "plt.hist(image[:, :, 1].ravel(), bins = 256, color = 'Green', alpha = 0.5)\n",
    "plt.hist(image[:, :, 2].ravel(), bins = 256, color = 'Blue', alpha = 0.5)\n",
    "plt.xlabel('Intensidad')\n",
    "plt.ylabel('Amplitud')\n",
    "plt.legend(['Canal_Rojo', 'Canal_verde', 'Canal_Azul'])\n",
    "plt.show()"
   ]
  },
  {
   "cell_type": "markdown",
   "metadata": {},
   "source": [
    "Una de las mejores estrategias para reconocer un objeto es el **cambio de color respecto al entorno**.\n",
    "Se observa que al estar los patos sobre un fondo de hierba de color verde más o menos homogéneo, podemos utilizar esta clara diferenzación de color. \n",
    "\n",
    "Vamos a analizar como se observan los patos al **filtrar** por diferentes canales **RGB**, para intentar identificar alguna  "
   ]
  },
  {
   "cell_type": "code",
   "execution_count": null,
   "metadata": {},
   "outputs": [],
   "source": [
    "#Solo canal Rojo\n",
    "red=np.copy(image)\n",
    "red[:,:,1:3]=0\n",
    "plt.figure()\n",
    "plt.imshow(red)\n",
    "\n",
    "#Solo canal Verde\n",
    "green=np.copy(image)\n",
    "green[:,:,0]=0\n",
    "plt.figure()\n",
    "plt.imshow(green)\n",
    "\n",
    "#Solo canal Azul\n",
    "blue=np.copy(image)\n",
    "blue[:,:,0:2]=0\n",
    "plt.figure()\n",
    "plt.imshow(blue)\n"
   ]
  },
  {
   "cell_type": "markdown",
   "metadata": {},
   "source": [
    "Los patos parecen activarse más en el filtro azul-rojo, pero no aparece una diferencia clara del fondo.\n",
    "\n",
    "Vamos a probar a convertirlo al espacio **HSV** en el que cada pixel se codifica también con tres valores:\n",
    "- **Canal H**: Indica el **Tono** del color.\n",
    "- **Canal S**: Indica **Saturación** del color en el pixel.\n",
    "- **Canal V**: Indica la **Luminosidad** del pixel."
   ]
  },
  {
   "cell_type": "code",
   "execution_count": null,
   "metadata": {},
   "outputs": [],
   "source": [
    "image_hsv=color.rgb2hsv(image) # Convertir a modelo HSV\n",
    "\n",
    "#Analizamos cada canal H-S-V por separado.\n",
    "plt.figure()\n",
    "plt.imshow(image_hsv[:,:,0])\n",
    "\n",
    "plt.figure()\n",
    "plt.imshow(image_hsv[:,:,1])\n",
    "\n",
    "plt.figure()\n",
    "plt.imshow(image_hsv[:,:,2])\n"
   ]
  },
  {
   "cell_type": "markdown",
   "metadata": {},
   "source": [
    "Parece que el filtrar por el **canal H**, que contine la información del color, es el qué permite obtener una mayor diferencia de los patos y el fondo. Aprovecharemos esta ventaja, para mejorar la segmentación."
   ]
  },
  {
   "cell_type": "markdown",
   "metadata": {},
   "source": [
    "## 2. Definimos función de \"Evaluación\""
   ]
  },
  {
   "cell_type": "markdown",
   "metadata": {},
   "source": [
    "El enunciado proporciona una **función de evaluación** que permite introducir la imagen procesada y obtener un **factor de calidad** comparada con el mejor resultado posible, proprocionado por el \"Ground-Truth o \"Imagen de referencia absoluta\" descargado del DataSet.\n",
    "\n",
    "Ambas imágenes deben ser pasadas a la función transformadas a dato binario, es decir: todos los píxeles de a imagen deberán tener un valor **TRUE** (Blanco) o **FALSE** (Nebro).\n",
    "\n",
    "Esta función devuelve un factro de calidad entre **0 y 1**. La **mejor segementación** será aquella que consiga un **factor de calidad más alto**."
   ]
  },
  {
   "cell_type": "code",
   "execution_count": null,
   "metadata": {},
   "outputs": [],
   "source": [
    "def factor_f_evaluation(binary_image, ground_truth):\n",
    "    TP = np.sum(np.logical_and(binary_image, ground_truth))\n",
    "    TN = np.sum(np.logical_and(np.logical_not(binary_image), np.logical_not(ground_truth)))\n",
    "    FP = np.sum(np.logical_and(np.logical_not(binary_image), ground_truth))\n",
    "    FN = np.sum(np.logical_and(binary_image, np.logical_not(ground_truth)))\n",
    "    P = TP/np.float(TP+FP)\n",
    "    R = TP/np.float(TP+FN)\n",
    "    if P+R == 0:\n",
    "        F = 0\n",
    "    else:\n",
    "        F = 2*P*R/(P+R)\n",
    "    return F"
   ]
  },
  {
   "cell_type": "markdown",
   "metadata": {},
   "source": [
    "## 4. Prepocesamiento imagen de referencia \"Ground-Truth\"."
   ]
  },
  {
   "cell_type": "markdown",
   "metadata": {},
   "source": [
    "Importamos la imagen que utilizaremos como \"Ground-Truth\" y analizamos su formato."
   ]
  },
  {
   "cell_type": "code",
   "execution_count": null,
   "metadata": {},
   "outputs": [],
   "source": [
    "image_bw=io.imread('ducks01_0100_gt.png')  #Importamos\n",
    "plt.imshow(image_bw)                       # Y visualizamos"
   ]
  },
  {
   "cell_type": "markdown",
   "metadata": {},
   "source": [
    "Debemos definir una función que adapte el formato de nuestro \"Ground-Truth\" a las características de entrada que necesitamos para la función de evaluación:\n",
    "- 1º: Convertimos de **RGB** a **Gray Scale**\n",
    "- 2º: Convertimos la imagen a formato **decimal** con valores entre **0 y 1**."
   ]
  },
  {
   "cell_type": "code",
   "execution_count": null,
   "metadata": {},
   "outputs": [],
   "source": [
    "def get_ground_truth(image_bw):\n",
    "    ground_truth_image = img_as_float(rgb2gray(image_bw))\n",
    "    return (ground_truth_image < 1)"
   ]
  },
  {
   "cell_type": "markdown",
   "metadata": {},
   "source": [
    "## 5. Estrategia nº1: Segentación basada en \"***Active Contour Model***\""
   ]
  },
  {
   "cell_type": "markdown",
   "metadata": {},
   "source": [
    "@Sergio, si quieres puedes añadir aquí tu método..."
   ]
  },
  {
   "cell_type": "code",
   "execution_count": null,
   "metadata": {},
   "outputs": [],
   "source": [
    "def detecion_ACW(image):\n",
    "    #Añadir desarrollo AQUÍ\n",
    "    imagen_resultado=image\n",
    "    return imagen_resultado"
   ]
  },
  {
   "cell_type": "markdown",
   "metadata": {},
   "source": [
    "## 6. Estrategia nº2: Segmentación basado en \"*** XXX ***\""
   ]
  },
  {
   "cell_type": "markdown",
   "metadata": {},
   "source": [
    "@Luisa \n",
    "Aquí un texto que introduzca un poco la estrategia.....\n",
    "....."
   ]
  },
  {
   "cell_type": "code",
   "execution_count": 1,
   "metadata": {},
   "outputs": [],
   "source": [
    "#Función..."
   ]
  },
  {
   "cell_type": "markdown",
   "metadata": {},
   "source": [
    "## 7. Estrategia nº3: Segmentación basado en \"***WaterShed***\""
   ]
  },
  {
   "cell_type": "markdown",
   "metadata": {},
   "source": [
    "La segmentación basada en la transformada ***WaterShed*** para el crecimiento y segmnetación de regiones se distingue frente a otras técnicas por dividir la imagen en diferentes regiones de **nivel de grises** para determinar los contornos de los elemntos que no son el fondo de la imagen.\n",
    "\n",
    "Para ello, explota el hecho de que en los contornos el nivel de grises varía de forma abrupta. Para identificar estos pixels se utiliza el **operador gradiente**, analógo a la operación de derivación pero en superficies.\n",
    "\n",
    "Esta transformada también es conocida como **algoritmo de inundación** por la analogía topográfica de las curas de terreno: en nuesro caso, a las coordenadas cartesianas, se le ñade una tercera coordenada que codifica el nivel de grises (altura topográfica).\n",
    "\n",
    "El objetivo principal del algoritmo es identificar las líneas divisorias entre regiones o también conocidas como **crestas de Watershed**.\n",
    "\n",
    "Para **evitar una sobre segmentación**, se propone una **filtrado del ruido** para suavizar diferencias entre texturas y colores además de **acotar de manera manual con una ventana** la zona de la imagen que queremos procesar."
   ]
  },
  {
   "cell_type": "code",
   "execution_count": null,
   "metadata": {},
   "outputs": [],
   "source": [
    "def detecion_watershed(image):\n",
    "\n",
    "    image=color.rgb2hsv(image)\n",
    "\n",
    "    # 1: Seleccionamos el canal H(tono) de la imagen para diferenciar los patos sobre el fondo verde.\n",
    "    image = image[:,:,0]\n",
    "\n",
    "    # 2: Realizamos el filtro de Mediana para reducir el ruido de la imagen inicial.\n",
    "    imagen_suavizada = filters.rank.median(image, disk(5))\n",
    "\n",
    "    # 3: Seleccionamos las regiones continuas que tienen un gradiente inferior a 10 para quedarnos con los valles.\n",
    "    #    para tener una imagen más lisa seleccionamos empíricamnete disk(3) \n",
    "    marcadores_valles = filters.rank.gradient(imagen_suavizada, disk(3)) < 10\n",
    "\n",
    "    # 4: Procedemos a crear una mascara manual para reducir la zona de búqueda de contornos\n",
    "    imagen_mascara = np.zeros_like(marcadores_valles)\n",
    "    \n",
    "    # 5: Manualmente  selecionamos un rectangulo alrededor de la zona donde estan los patos por medio de los pixels.\n",
    "    imagen_mascara[200:350,400:570]=True\n",
    "    \n",
    "    # 6: Combinamos la imagen de los valles con la mascara\n",
    "    marcadores_valles=marcadores_valles*imagen_mascara\n",
    "\n",
    "    # 7: Aplicamos ndi.label para obtener las etiquetas que corresponden a cada píxel y puedan agruparse, \n",
    "    #    selecionando el parámetro [0] \n",
    "    marcadores_valles = ndi.label(marcadores_valles)[0]\n",
    "\n",
    "    # 8: Para tener una imagen mas lisa seleccionamos disk(1), que es el mejor radio empírico.\n",
    "    gradient = filters.rank.gradient(imagen_suavizada, disk(1))\n",
    "\n",
    "    # 9: Función WATERSHED pasando como parametro el gradiente y la imagen con las marcas de los contornos \n",
    "    labels = watershed(gradient, marcadores_valles)\n",
    "    imagen_resultado=(labels!=1)\n",
    "    \n",
    "    # 10: Devolvemos imagen segmentada\n",
    "    return imagen_resultado"
   ]
  },
  {
   "cell_type": "markdown",
   "metadata": {},
   "source": [
    "## 8. Ejecutamos las diferentes estratégias y comparamos rendimientos."
   ]
  },
  {
   "cell_type": "markdown",
   "metadata": {},
   "source": [
    "Evaluamos los resultados de las diferentes estrategias que se han probado:"
   ]
  },
  {
   "cell_type": "markdown",
   "metadata": {},
   "source": [
    "- **Método ACW:** Factor de evaluación **0.4**"
   ]
  },
  {
   "cell_type": "code",
   "execution_count": null,
   "metadata": {},
   "outputs": [],
   "source": [
    "resultado_ACW = detecion_ACW(image) #1: Procesmaos imagen con nuestra función \n",
    "plt.imshow(resultado_ACW, cmap=plt.cm.nipy_spectral, alpha=1)  # 2: Mostramos imagen segmentada.\n",
    "#KPI_ACW=factor_f_evaluation(resultado_ACW, get_ground_truth(image_bw)) #3: Calculamos factor calidad.\n",
    "#print(\"Factor Evalucción:\",KPI_ACW)  #4: Mostramos QF"
   ]
  },
  {
   "cell_type": "markdown",
   "metadata": {},
   "source": [
    "- **Método WaterShed:** Factor de evaluación **0.89**"
   ]
  },
  {
   "cell_type": "code",
   "execution_count": null,
   "metadata": {},
   "outputs": [],
   "source": [
    "resultado_Watershed = detecion_watershed(image) #1: Procesmaos imagen con nuestra función \n",
    "plt.imshow(resultado_Watershed, cmap=plt.cm.nipy_spectral, alpha=1)  # 2: Mostramos imagen segmentada.\n",
    "KPI_Watershed=factor_f_evaluation(resultado_Watershed, get_ground_truth(image_bw)) #3: Calculamos factor calidad.\n",
    "print(\"Factor Evalucción:\",KPI_Watershed)  #4: Mostramos QF"
   ]
  },
  {
   "cell_type": "markdown",
   "metadata": {},
   "source": [
    "## 9. Análisis resultados y conclusiones."
   ]
  },
  {
   "cell_type": "markdown",
   "metadata": {},
   "source": [
    "Tras probar diferentes estrategias, el mejor resultado se ha obtenido implementando un estrategia basada en el crecimiento de regiones mediante la transformada **WaterShed** con el objetivo de determinar los contornos que definen a los patos, tras una etapa de **preprocesamiento** en la que hemos filtrado el ruido y explotado la **diferencia en color** que existe entre los patos y el fondo de verde.\n",
    "\n",
    "Esta actividad ha superado un verdadero reto, y quebradero de cabeza, para los integrantes del equipo. \n",
    "Queda comprobado que la segmentación de imágenes, cuando no existe un claro contraste es mucho más complicada de abordar con buenos resultados de lo que podríamos imaginar de inicio.\n",
    "\n",
    "Muchas más técncias de filtrado y estrategias que las que contiene este Notebook han sido probadas.\n",
    "Aunque los resultados alcanzados no merecen ser incluidos en este informe resumen, no sería justo no hacer mención a ellos por el tiempo e entusiamos invertidos en su preparación cada miembro del equipo."
   ]
  },
  {
   "cell_type": "markdown",
   "metadata": {},
   "source": [
    "### Fin Actividad."
   ]
  },
  {
   "attachments": {
    "Tabla_team.png": {
     "image/png": "[encoded data removed]"
    }
   },
   "cell_type": "markdown",
   "metadata": {},
   "source": [
    "![Tabla_team.png](attachment:Tabla_team.png)"
   ]
  }
 ],
 "metadata": {
  "kernelspec": {
   "display_name": "Python 3",
   "language": "python",
   "name": "python3"
  },
  "language_info": {
   "codemirror_mode": {
    "name": "ipython",
    "version": 3
   },
   "file_extension": ".py",
   "mimetype": "text/x-python",
   "name": "python",
   "nbconvert_exporter": "python",
   "pygments_lexer": "ipython3",
   "version": "3.7.3"
  }
 },
 "nbformat": 4,
 "nbformat_minor": 2
}
